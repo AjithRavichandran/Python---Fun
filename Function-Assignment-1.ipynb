{
 "cells": [
  {
   "cell_type": "code",
   "execution_count": 1,
   "id": "6d9d939a-f53e-42f9-ac76-d499fd38c001",
   "metadata": {},
   "outputs": [],
   "source": [
    "def subfiedsInAI():\n",
    "    lst=['Sub - Fields in AI are :','Machine Learning','Neutral Network','Vision','Robotics']\n",
    "    for i in lst:\n",
    "        print(i)"
   ]
  },
  {
   "cell_type": "code",
   "execution_count": 2,
   "id": "414ee743-952e-4d32-ad09-9196c8b52381",
   "metadata": {},
   "outputs": [
    {
     "name": "stdout",
     "output_type": "stream",
     "text": [
      "Sub - Fields in AI are :\n",
      "Machine Learning\n",
      "Neutral Network\n",
      "Vision\n",
      "Robotics\n"
     ]
    }
   ],
   "source": [
    "subfiedsInAI()"
   ]
  },
  {
   "cell_type": "code",
   "execution_count": 3,
   "id": "7aa5c732-c8d8-4a2c-a043-40b0ce84c7b2",
   "metadata": {},
   "outputs": [],
   "source": [
    "def oddEven():\n",
    "    num=int(input('Enter the number: '))\n",
    "    if num%2==0:\n",
    "        print(f'{num} is Even number')\n",
    "    else:\n",
    "        print(f'{num} is odd number')"
   ]
  },
  {
   "cell_type": "code",
   "execution_count": 4,
   "id": "d1f71de2-d4b4-484f-95b9-a01fcf9baa4e",
   "metadata": {},
   "outputs": [
    {
     "name": "stdin",
     "output_type": "stream",
     "text": [
      "Enter the number:  52542\n"
     ]
    },
    {
     "name": "stdout",
     "output_type": "stream",
     "text": [
      "52542 is Even number\n"
     ]
    }
   ],
   "source": [
    "oddEven()"
   ]
  },
  {
   "cell_type": "code",
   "execution_count": 5,
   "id": "85b18e63-39d7-4314-9ff0-a8db4be1372c",
   "metadata": {},
   "outputs": [],
   "source": [
    "def ElegibilityForMarriage():\n",
    "    gender=input('Your Gender:')\n",
    "    age=int(input('Your age:'))\n",
    "    gender_lower=gender.lower()\n",
    "    if gender=='male':\n",
    "        if age<=21:\n",
    "            print('NOT ELIGIBILE')\n",
    "        else:\n",
    "            print('ELIGIBILE')\n",
    "    else:\n",
    "        if age<=18:\n",
    "            print('NOT ELIGIBILE')\n",
    "        else:\n",
    "            print('ELIGIBILE')"
   ]
  },
  {
   "cell_type": "code",
   "execution_count": 6,
   "id": "dcd7be69-77ca-4e3a-9710-a3b3e8461715",
   "metadata": {},
   "outputs": [
    {
     "name": "stdin",
     "output_type": "stream",
     "text": [
      "Your Gender: Male\n",
      "Your age: 20\n"
     ]
    },
    {
     "name": "stdout",
     "output_type": "stream",
     "text": [
      "ELIGIBILE\n"
     ]
    }
   ],
   "source": [
    "ElegibilityForMarriage()"
   ]
  },
  {
   "cell_type": "code",
   "execution_count": 7,
   "id": "e762b008-eb81-48dc-b3fc-fddc59c749f2",
   "metadata": {},
   "outputs": [],
   "source": [
    "def FindPercent():\n",
    "    subject1 = int(input('Enter your subject1 mark'))\n",
    "    subject2 = int(input('Enter your subject2 mark'))\n",
    "    subject3 = int(input('Enter your subject3 mark'))\n",
    "    subject4 = int(input('Enter your subject4 mark'))\n",
    "    subject5 = int(input('Enter your subject5 mark'))\n",
    "    Total=subject1+subject2+subject3+subject4+subject5\n",
    "    Percentage=Total/5\n",
    "    print(f'Total : {Total}')\n",
    "    print(f'Percentage : {Percentage}')"
   ]
  },
  {
   "cell_type": "code",
   "execution_count": 8,
   "id": "388f18d0-2fad-4d97-a1dc-95f70d4502fa",
   "metadata": {},
   "outputs": [
    {
     "name": "stdin",
     "output_type": "stream",
     "text": [
      "Enter your subject1 mark 98\n",
      "Enter your subject2 mark 87\n",
      "Enter your subject3 mark 95\n",
      "Enter your subject4 mark 95\n",
      "Enter your subject5 mark 83\n"
     ]
    },
    {
     "name": "stdout",
     "output_type": "stream",
     "text": [
      "Total : 458\n",
      "Percentage : 91.6\n"
     ]
    }
   ],
   "source": [
    "FindPercent()"
   ]
  },
  {
   "cell_type": "code",
   "execution_count": 9,
   "id": "85227d06-5842-4ce2-aa64-f4fe4ea54908",
   "metadata": {},
   "outputs": [],
   "source": [
    "def triangle():\n",
    "    height=int(input('Enter the Height:'))\n",
    "    breadth=int(input('Enter the Breadth:'))\n",
    "    print('Area formula:(Height*Breadth)/2')\n",
    "    area = height * breadth / 2\n",
    "    print(f'Area of Triangle:{area}')\n",
    "\n",
    "def triangle2():\n",
    "    height1=int(input('Enter the Height1:'))\n",
    "    height2= int(input('Enter the Height2:'))\n",
    "    breadth2=int(input('Enter the Breadth:'))\n",
    "    print('Perimeter formula: Height1+Height2+Breadth')\n",
    "    perimeter=height1+height2+breadth2\n",
    "    print(f'perimeter of Trainagle: {perimeter}')"
   ]
  },
  {
   "cell_type": "code",
   "execution_count": 10,
   "id": "b4e0516a-a71c-47e8-af27-c7cf7bb54d49",
   "metadata": {},
   "outputs": [
    {
     "name": "stdin",
     "output_type": "stream",
     "text": [
      "Enter the Height: 32\n",
      "Enter the Breadth: 34\n"
     ]
    },
    {
     "name": "stdout",
     "output_type": "stream",
     "text": [
      "Area formula:(Height*Breadth)/2\n",
      "Area of Triangle:544.0\n"
     ]
    },
    {
     "name": "stdin",
     "output_type": "stream",
     "text": [
      "Enter the Height1: 2\n",
      "Enter the Height2: 4\n",
      "Enter the Breadth: 4\n"
     ]
    },
    {
     "name": "stdout",
     "output_type": "stream",
     "text": [
      "Perimeter formula: Height1+Height2+Breadth\n",
      "perimeter of Trainagle: 10\n"
     ]
    }
   ],
   "source": [
    "triangle()\n",
    "triangle2()"
   ]
  },
  {
   "cell_type": "code",
   "execution_count": null,
   "id": "76aef07b-c43a-499e-9424-067c0b96e20c",
   "metadata": {},
   "outputs": [],
   "source": []
  },
  {
   "cell_type": "code",
   "execution_count": null,
   "id": "3d2b4fc5-b6cc-4210-b828-878d7e099c49",
   "metadata": {},
   "outputs": [],
   "source": []
  }
 ],
 "metadata": {
  "kernelspec": {
   "display_name": "Python 3 (ipykernel)",
   "language": "python",
   "name": "python3"
  },
  "language_info": {
   "codemirror_mode": {
    "name": "ipython",
    "version": 3
   },
   "file_extension": ".py",
   "mimetype": "text/x-python",
   "name": "python",
   "nbconvert_exporter": "python",
   "pygments_lexer": "ipython3",
   "version": "3.12.4"
  }
 },
 "nbformat": 4,
 "nbformat_minor": 5
}
